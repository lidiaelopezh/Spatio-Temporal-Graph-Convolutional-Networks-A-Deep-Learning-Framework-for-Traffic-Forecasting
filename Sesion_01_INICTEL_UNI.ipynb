{
  "nbformat": 4,
  "nbformat_minor": 0,
  "metadata": {
    "colab": {
      "name": "Sesion_01_INICTEL_UNI.ipynb",
      "provenance": [],
      "include_colab_link": true
    },
    "kernelspec": {
      "name": "python3",
      "display_name": "Python 3"
    },
    "accelerator": "GPU"
  },
  "cells": [
    {
      "cell_type": "markdown",
      "metadata": {
        "id": "view-in-github",
        "colab_type": "text"
      },
      "source": [
        "<a href=\"https://colab.research.google.com/github/lidiaelopezh/Spatio-Temporal-Graph-Convolutional-Networks-A-Deep-Learning-Framework-for-Traffic-Forecasting/blob/master/Sesion_01_INICTEL_UNI.ipynb\" target=\"_parent\"><img src=\"https://colab.research.google.com/assets/colab-badge.svg\" alt=\"Open In Colab\"/></a>"
      ]
    },
    {
      "cell_type": "markdown",
      "metadata": {
        "id": "2yVZosGFDAOA",
        "colab_type": "text"
      },
      "source": [
        "# **Python para aplicaciones numericas**\n"
      ]
    },
    {
      "cell_type": "markdown",
      "metadata": {
        "id": "NYEesjyxEr4A",
        "colab_type": "text"
      },
      "source": [
        "## **Sesion 01: Introducción a Python**\n",
        "\n",
        "En esta sesion se presenta los conceptos basicos del lenguaje de programación Python. Se mostrara como escribir algunos comandos basicos, entender algunos tipos de datos y como desarrollar algunas operaciones simples con ellos."
      ]
    },
    {
      "cell_type": "markdown",
      "metadata": {
        "id": "cFb_leymEGuZ",
        "colab_type": "text"
      },
      "source": [
        "\n",
        "\n",
        "---\n",
        "\n",
        "\n",
        "### **Hola Mundo en Python**"
      ]
    },
    {
      "cell_type": "code",
      "metadata": {
        "id": "1XMTrJKjLkR0",
        "colab_type": "code",
        "colab": {}
      },
      "source": [
        "print('Hola Python')"
      ],
      "execution_count": 0,
      "outputs": []
    },
    {
      "cell_type": "markdown",
      "metadata": {
        "id": "VzD-sTGCE9pD",
        "colab_type": "text"
      },
      "source": [
        "#### Version de Python"
      ]
    },
    {
      "cell_type": "code",
      "metadata": {
        "id": "QRutQXclGEmw",
        "colab_type": "code",
        "colab": {}
      },
      "source": [
        "# Check the Python Version\n",
        "\n",
        "import sys\n",
        "print(sys.version)"
      ],
      "execution_count": 0,
      "outputs": []
    },
    {
      "cell_type": "markdown",
      "metadata": {
        "id": "YYV_28mSFE3Z",
        "colab_type": "text"
      },
      "source": [
        "#### Comentarios en Python"
      ]
    },
    {
      "cell_type": "markdown",
      "metadata": {
        "id": "-36gp44bXT3T",
        "colab_type": "text"
      },
      "source": [
        "Además de escribir código, tenga en cuenta que siempre es una buena idea agregar comentarios a su código. Ayudará a otros a comprender lo que estaba tratando de lograr (la razón por la que escribió un fragmento de código dado). Esto no solo ayuda a otras personas a comprender su código, sino que también puede servirle de recordatorio cuando vuelva a utilizarlo semanas o meses después.\n",
        "\n",
        "Para escribir comentarios en Python, use el símbolo numérico ```#``` antes de escribir su comentario. Cuando ejecutas tu código, Python ignorará todo lo que pase el ```#``` en una línea determinada."
      ]
    },
    {
      "cell_type": "code",
      "metadata": {
        "id": "Ih-iOePCLofB",
        "colab_type": "code",
        "colab": {}
      },
      "source": [
        "# Practicar escribiendo comentarios\n",
        "\n",
        "print('Hola Python') # Esta linea muestra un string\n",
        "# print('Hola')"
      ],
      "execution_count": 0,
      "outputs": []
    },
    {
      "cell_type": "markdown",
      "metadata": {
        "id": "ztElvT_aFIrO",
        "colab_type": "text"
      },
      "source": [
        "#### Errores en Python"
      ]
    },
    {
      "cell_type": "markdown",
      "metadata": {
        "id": "vzgeDyzOX3B_",
        "colab_type": "text"
      },
      "source": [
        "Todos cometemos errores. Para muchos tipos de errores, Python mostrara que se ha cometido un error mediante un mensaje de error. Es importante leer los mensajes de error cuidadosamente para comprender realmente dónde cometió un error y cómo se puede corregir.\n",
        "\n",
        "Por ejemplo, si escribe ```print``` como ```frint```, Python mostrará un mensaje de error."
      ]
    },
    {
      "cell_type": "code",
      "metadata": {
        "id": "zTswase-LsPT",
        "colab_type": "code",
        "colab": {}
      },
      "source": [
        "frint(\"Hola Python\")"
      ],
      "execution_count": 0,
      "outputs": []
    },
    {
      "cell_type": "markdown",
      "metadata": {
        "id": "tngQaSnOVsH2",
        "colab_type": "text"
      },
      "source": [
        "El mensaje de error nos dice: \n",
        "\n",
        "1.   Donde ocurrio el error\n",
        "2.   Cual es el tipo de error (NameError)\n",
        "\n",
        "Aqui, Python intenta ejecutar la función ```frint```, pero no puede determinar que es ```frint``` ya que no es una función nativa de python y tampoco ha sido previamente definida por nosotros."
      ]
    },
    {
      "cell_type": "markdown",
      "metadata": {
        "id": "adzsbmENWax7",
        "colab_type": "text"
      },
      "source": [
        "Notarás que si cometemos un tipo diferente de error, al olvidar cerrar la cadena, obtendremos un error diferente (es decir, un error del tipo ```SyntaxError```)."
      ]
    },
    {
      "cell_type": "code",
      "metadata": {
        "id": "tAffFpxSLwJc",
        "colab_type": "code",
        "colab": {}
      },
      "source": [
        "print(\"Hola Python)"
      ],
      "execution_count": 0,
      "outputs": []
    },
    {
      "cell_type": "markdown",
      "metadata": {
        "id": "9S3U-avNFkOH",
        "colab_type": "text"
      },
      "source": [
        "#### Hallar errores en el codigo"
      ]
    },
    {
      "cell_type": "markdown",
      "metadata": {
        "id": "hdG-U1E4Ye3Y",
        "colab_type": "text"
      },
      "source": [
        "Python es lo que se llama un lenguaje interpretado. Los lenguajes compilados examinan todo su programa en tiempo de compilación y pueden advertirle sobre toda una clase de errores antes de la ejecución. Por el contrario, Python interpreta su script línea por línea a medida que lo ejecuta. Python dejará de ejecutar todo el programa cuando encuentre un error."
      ]
    },
    {
      "cell_type": "code",
      "metadata": {
        "id": "MdWfL2r3L5GQ",
        "colab_type": "code",
        "colab": {}
      },
      "source": [
        "print(\"Esto se muestra\")\n",
        "frint(\"Esto causara un error\")\n",
        "print(\"Esto no se muestra\")"
      ],
      "execution_count": 0,
      "outputs": []
    },
    {
      "cell_type": "markdown",
      "metadata": {
        "id": "BfyDvdqrF45r",
        "colab_type": "text"
      },
      "source": [
        "#### *Ejercicio: Mostrar datos*"
      ]
    },
    {
      "cell_type": "markdown",
      "metadata": {
        "id": "HqduXhXPL92R",
        "colab_type": "text"
      },
      "source": [
        "Mostrar el texto ```Hola Mundo```\n",
        "\n"
      ]
    },
    {
      "cell_type": "code",
      "metadata": {
        "id": "wmNC4Dh5MNwI",
        "colab_type": "code",
        "colab": {}
      },
      "source": [
        "# Escribir la solucion en la siguiente linea y presiona Shift+Enter para ejecutar\n"
      ],
      "execution_count": 0,
      "outputs": []
    },
    {
      "cell_type": "markdown",
      "metadata": {
        "id": "ZdoZethaMpRL",
        "colab_type": "text"
      },
      "source": [
        "Doble click (o Enter) **aqui** para ver la solucion.\n",
        "\n",
        "<!-- La respuesta es:\n",
        "\n",
        "print(\"Hola Mundo\")\n",
        "\n",
        "-->"
      ]
    },
    {
      "cell_type": "markdown",
      "metadata": {
        "id": "uwSjkcw4Nb67",
        "colab_type": "text"
      },
      "source": [
        "Mostrar el mismo texto anterior agregando el comentario ```Esta linea muestra el mensaje Hola Mundo``` para documentar el codigo"
      ]
    },
    {
      "cell_type": "code",
      "metadata": {
        "id": "GRD881klMScV",
        "colab_type": "code",
        "colab": {}
      },
      "source": [
        "# Escribir la solucion en la siguiente linea y presiona Shift+Enter para ejecutar\n"
      ],
      "execution_count": 0,
      "outputs": []
    },
    {
      "cell_type": "markdown",
      "metadata": {
        "id": "gL5hHSfSOG11",
        "colab_type": "text"
      },
      "source": [
        "Doble click (o Enter) **aqui** para ver la solucion.\n",
        "\n",
        "<!-- La respuesta es:\n",
        "\n",
        "print(\"Hola Mundo\") # Esta linea muestra el mensaje Hola Mundo\n",
        "\n",
        "-->"
      ]
    },
    {
      "cell_type": "markdown",
      "metadata": {
        "id": "g60DhvP4EV7H",
        "colab_type": "text"
      },
      "source": [
        "\n",
        "\n",
        "---\n",
        "\n",
        "### **Tipos de datos en Python**\n"
      ]
    },
    {
      "cell_type": "markdown",
      "metadata": {
        "id": "gZPvYLYDPmtW",
        "colab_type": "text"
      },
      "source": [
        "Python es un lenguaje orientado a objetos. Hay muchos tipos diferentes de objetos en Python. Comencemos con los tipos de objetos más comunes: cadenas (string), enteros (integer) y flotantes (float). Cada vez que escribe palabras (texto) en Python, está utilizando cadenas de caracteres. Los números más comunes, por otro lado, son enteros (por ejemplo, -1, 0, 100) y flotantes, que representan números reales (por ejemplo, 3.14, -42.0)."
      ]
    },
    {
      "cell_type": "code",
      "metadata": {
        "id": "OdWUTIb_aEGN",
        "colab_type": "code",
        "colab": {}
      },
      "source": [
        "# Integer\n",
        "\n",
        "11"
      ],
      "execution_count": 0,
      "outputs": []
    },
    {
      "cell_type": "code",
      "metadata": {
        "id": "4ZPxCzmqaFKg",
        "colab_type": "code",
        "colab": {}
      },
      "source": [
        "# Float\n",
        "\n",
        "2.14"
      ],
      "execution_count": 0,
      "outputs": []
    },
    {
      "cell_type": "code",
      "metadata": {
        "id": "V1Vf1WltaG_R",
        "colab_type": "code",
        "colab": {}
      },
      "source": [
        "# String\n",
        "\n",
        "\"Hola Python\""
      ],
      "execution_count": 0,
      "outputs": []
    },
    {
      "cell_type": "markdown",
      "metadata": {
        "id": "hmySslUYaN_j",
        "colab_type": "text"
      },
      "source": [
        "Para conocer que tipo de dato estamos manejando, se puede usar la función ```type()```"
      ]
    },
    {
      "cell_type": "code",
      "metadata": {
        "id": "Wlz3gfvVaNrP",
        "colab_type": "code",
        "colab": {}
      },
      "source": [
        "# Tipo de dato de 12\n",
        "\n",
        "type(12)"
      ],
      "execution_count": 0,
      "outputs": []
    },
    {
      "cell_type": "code",
      "metadata": {
        "id": "Tm_5NqieaZoe",
        "colab_type": "code",
        "colab": {}
      },
      "source": [
        "# Tipo de dato de 2.14\n",
        "\n",
        "type(2.14)"
      ],
      "execution_count": 0,
      "outputs": []
    },
    {
      "cell_type": "code",
      "metadata": {
        "id": "elX-Zk-XabU4",
        "colab_type": "code",
        "colab": {}
      },
      "source": [
        "# Tipo de dato de \"Hola Python\"\n",
        "\n",
        "type(\"Hola Python\")"
      ],
      "execution_count": 0,
      "outputs": []
    },
    {
      "cell_type": "markdown",
      "metadata": {
        "id": "lUweWZUoGOId",
        "colab_type": "text"
      },
      "source": [
        "#### Enteros (Integers)"
      ]
    },
    {
      "cell_type": "markdown",
      "metadata": {
        "id": "wniziVXUQrG3",
        "colab_type": "text"
      },
      "source": [
        "Here are some examples of integers. Integers can be negative or positive numbers:"
      ]
    },
    {
      "cell_type": "code",
      "metadata": {
        "id": "Gm_KDuXHZ-lp",
        "colab_type": "code",
        "colab": {}
      },
      "source": [
        "# Print the type of -1\n",
        "\n",
        "type(-1)"
      ],
      "execution_count": 0,
      "outputs": []
    },
    {
      "cell_type": "code",
      "metadata": {
        "id": "nhNASBn2at8q",
        "colab_type": "code",
        "colab": {}
      },
      "source": [
        "# Print the type of 4\n",
        "\n",
        "type(4)"
      ],
      "execution_count": 0,
      "outputs": []
    },
    {
      "cell_type": "code",
      "metadata": {
        "id": "frB-Dc5EavzA",
        "colab_type": "code",
        "colab": {}
      },
      "source": [
        "# Print the type of 0\n",
        "\n",
        "type(0)"
      ],
      "execution_count": 0,
      "outputs": []
    },
    {
      "cell_type": "markdown",
      "metadata": {
        "id": "4qTqj4CPGR2e",
        "colab_type": "text"
      },
      "source": [
        "#### Flotante (Float)"
      ]
    },
    {
      "cell_type": "markdown",
      "metadata": {
        "id": "pQmjohDtQZYN",
        "colab_type": "text"
      },
      "source": [
        "Las ```float``` representan números reales; los cuales son un superconjunto de números enteros pero también incluyen \"números con decimales\". Existen algunas limitaciones cuando se trata de máquinas que representan números reales, pero los números de punto flotante son una buena representación en la mayoría de los casos. Puede obtener más información sobre los detalles de los ```float``` para su entorno de ejecución, verificando el valor de ```sys.float_info```. Esto también le dirá cuál es el número más grande y más pequeño que se puede representar con ellos.\n"
      ]
    },
    {
      "cell_type": "code",
      "metadata": {
        "id": "DPYqn7O5PwH2",
        "colab_type": "code",
        "colab": {}
      },
      "source": [
        "# Muestra el tipo de dato de 1.0\n",
        "\n",
        "type(1.0)"
      ],
      "execution_count": 0,
      "outputs": []
    },
    {
      "cell_type": "code",
      "metadata": {
        "id": "ONTDnWmTa6xT",
        "colab_type": "code",
        "colab": {}
      },
      "source": [
        "# uestra el tipo de dato de 0.5\n",
        "\n",
        "type(0.5)"
      ],
      "execution_count": 0,
      "outputs": []
    },
    {
      "cell_type": "code",
      "metadata": {
        "id": "87joR3Fja7_w",
        "colab_type": "code",
        "colab": {}
      },
      "source": [
        "# uestra el tipo de dato de 0.56\n",
        "\n",
        "type(0.56)"
      ],
      "execution_count": 0,
      "outputs": []
    },
    {
      "cell_type": "code",
      "metadata": {
        "id": "BjAoD_a-a-10",
        "colab_type": "code",
        "colab": {}
      },
      "source": [
        "# Configuraciones sobre el tipo de dato float\n",
        "\n",
        "sys.float_info"
      ],
      "execution_count": 0,
      "outputs": []
    },
    {
      "cell_type": "markdown",
      "metadata": {
        "id": "QLD-AhY2Pwou",
        "colab_type": "text"
      },
      "source": [
        "#### Complejos (Complex)"
      ]
    },
    {
      "cell_type": "markdown",
      "metadata": {
        "id": "AymaKPtdQ3cw",
        "colab_type": "text"
      },
      "source": [
        "Los numeros complejos estan compuestos por una parte real y una parte imaginaria de la forma $a+bj$, donde $a$ es la parte real y $b$ es la parte imaginaria. Para más información se puede revisar este [link](https://es.wikipedia.org/wiki/N%C3%BAmero_complejo) "
      ]
    },
    {
      "cell_type": "code",
      "metadata": {
        "id": "J-A-UwaNQ6NM",
        "colab_type": "code",
        "colab": {}
      },
      "source": [
        "1+4j"
      ],
      "execution_count": 0,
      "outputs": []
    },
    {
      "cell_type": "code",
      "metadata": {
        "id": "iVmWlCQtc-TV",
        "colab_type": "code",
        "colab": {}
      },
      "source": [
        "type(4+0.5j)"
      ],
      "execution_count": 0,
      "outputs": []
    },
    {
      "cell_type": "markdown",
      "metadata": {
        "id": "EUSjPtHOGUew",
        "colab_type": "text"
      },
      "source": [
        "#### Conversion de tipos de datos"
      ]
    },
    {
      "cell_type": "markdown",
      "metadata": {
        "id": "kS975SgGRE5h",
        "colab_type": "text"
      },
      "source": [
        "You can change the type of the object in Python; this is called typecasting. For example, you can convert an *integer* into a *float* (por ejemplo: 2 a 2.0)."
      ]
    },
    {
      "cell_type": "code",
      "metadata": {
        "id": "SAlZSZNlbWo8",
        "colab_type": "code",
        "colab": {}
      },
      "source": [
        "type(2)"
      ],
      "execution_count": 0,
      "outputs": []
    },
    {
      "cell_type": "code",
      "metadata": {
        "id": "Vo_EmlVDbekO",
        "colab_type": "code",
        "colab": {}
      },
      "source": [
        "float(2)"
      ],
      "execution_count": 0,
      "outputs": []
    },
    {
      "cell_type": "code",
      "metadata": {
        "id": "nUJskHMObgyc",
        "colab_type": "code",
        "colab": {}
      },
      "source": [
        "type(float(2))"
      ],
      "execution_count": 0,
      "outputs": []
    },
    {
      "cell_type": "markdown",
      "metadata": {
        "id": "Kv4fuo81brUR",
        "colab_type": "text"
      },
      "source": [
        "Cuando convertimos un número entero en un flotante, realmente no cambiamos el valor (es decir, el significado) del número. Sin embargo, si convertimos un flotante a un entero, podríamos perder algo de información. Por ejemplo, si convertimos el numero 1.1 en un entero obtendremos 1 y perderemos la información decimal (es decir, 0.1):"
      ]
    },
    {
      "cell_type": "code",
      "metadata": {
        "id": "trYfjN_Ab9A8",
        "colab_type": "code",
        "colab": {}
      },
      "source": [
        "int(1.1)"
      ],
      "execution_count": 0,
      "outputs": []
    },
    {
      "cell_type": "markdown",
      "metadata": {
        "id": "VafkGjDCGYi4",
        "colab_type": "text"
      },
      "source": [
        "#### Booleano (Bool)"
      ]
    },
    {
      "cell_type": "markdown",
      "metadata": {
        "id": "dk6Ovq2eRpBj",
        "colab_type": "text"
      },
      "source": [
        "Boolean es otro tipo importante en Python. Un objeto de tipo booleano puede tomar uno de dos valores:  ```True``` or ```False```:"
      ]
    },
    {
      "cell_type": "code",
      "metadata": {
        "id": "l1j95cgUcLCY",
        "colab_type": "code",
        "colab": {}
      },
      "source": [
        "True"
      ],
      "execution_count": 0,
      "outputs": []
    },
    {
      "cell_type": "code",
      "metadata": {
        "id": "tZ0C9_dgcNsB",
        "colab_type": "code",
        "colab": {}
      },
      "source": [
        "False"
      ],
      "execution_count": 0,
      "outputs": []
    },
    {
      "cell_type": "code",
      "metadata": {
        "id": "1h6n3xrJcSX2",
        "colab_type": "code",
        "colab": {}
      },
      "source": [
        "type(True)"
      ],
      "execution_count": 0,
      "outputs": []
    },
    {
      "cell_type": "markdown",
      "metadata": {
        "id": "fpYoBxiTccnj",
        "colab_type": "text"
      },
      "source": [
        "Tambien es posible convertir algunos booleanos a otros tipos de datos y viceversa"
      ]
    },
    {
      "cell_type": "code",
      "metadata": {
        "id": "oa5waAlyccGL",
        "colab_type": "code",
        "colab": {}
      },
      "source": [
        "int(True)"
      ],
      "execution_count": 0,
      "outputs": []
    },
    {
      "cell_type": "code",
      "metadata": {
        "id": "zlh3UOnlcpP7",
        "colab_type": "code",
        "colab": {}
      },
      "source": [
        "bool(1)"
      ],
      "execution_count": 0,
      "outputs": []
    },
    {
      "cell_type": "code",
      "metadata": {
        "id": "_-ccy1v7cq9w",
        "colab_type": "code",
        "colab": {}
      },
      "source": [
        "bool(0)"
      ],
      "execution_count": 0,
      "outputs": []
    },
    {
      "cell_type": "code",
      "metadata": {
        "id": "9WthHHOWcuO8",
        "colab_type": "code",
        "colab": {}
      },
      "source": [
        "float(True)"
      ],
      "execution_count": 0,
      "outputs": []
    },
    {
      "cell_type": "markdown",
      "metadata": {
        "id": "VdY-o3y4Gdxj",
        "colab_type": "text"
      },
      "source": [
        "#### *Ejercicio: Tipos de datos*"
      ]
    },
    {
      "cell_type": "markdown",
      "metadata": {
        "id": "rHNQm8OPR_1c",
        "colab_type": "text"
      },
      "source": [
        "¿Cual es el tipo de dato del resultado ```6 / 2```?"
      ]
    },
    {
      "cell_type": "code",
      "metadata": {
        "id": "qtoVzxF1EbvA",
        "colab_type": "code",
        "colab": {}
      },
      "source": [
        "# Escribir la solucion en la siguiente linea y presiona Shift+Enter para ejecutar\n"
      ],
      "execution_count": 0,
      "outputs": []
    },
    {
      "cell_type": "markdown",
      "metadata": {
        "id": "JP5D7cdhixg8",
        "colab_type": "text"
      },
      "source": [
        "Doble click (o Enter) **aqui** para ver la solucion.\n",
        "\n",
        "<!-- La respuesta es:\n",
        "\n",
        "type(6/2) # el resultado es un flotante (float)\n",
        "\n",
        "-->"
      ]
    },
    {
      "cell_type": "markdown",
      "metadata": {
        "id": "cV8FWUDRSOIj",
        "colab_type": "text"
      },
      "source": [
        "¿Cual es el tipo de dato del resultado  ```6 // 2```? "
      ]
    },
    {
      "cell_type": "code",
      "metadata": {
        "id": "5DMh6T_cSY9r",
        "colab_type": "code",
        "colab": {}
      },
      "source": [
        "# Escribir la solucion en la siguiente linea y presiona Shift+Enter para ejecutar\n"
      ],
      "execution_count": 0,
      "outputs": []
    },
    {
      "cell_type": "markdown",
      "metadata": {
        "id": "ZLiCrAUNi4ej",
        "colab_type": "text"
      },
      "source": [
        "Doble click (o Enter) **aqui** para ver la solucion.\n",
        "\n",
        "<!-- La respuesta es:\n",
        "\n",
        "type(6//2) # el resultado es un entero (int)\n",
        "\n",
        "-->"
      ]
    },
    {
      "cell_type": "markdown",
      "metadata": {
        "id": "IhGqMLUwEcZR",
        "colab_type": "text"
      },
      "source": [
        "---\n",
        "### **Expresiones y variables**"
      ]
    },
    {
      "cell_type": "markdown",
      "metadata": {
        "id": "67q8BXhaG-Ja",
        "colab_type": "text"
      },
      "source": [
        "#### Expresiones"
      ]
    },
    {
      "cell_type": "markdown",
      "metadata": {
        "id": "HaxsSvXfhu-o",
        "colab_type": "text"
      },
      "source": [
        "Las expresiones en Python pueden incluir operaciones entre tipos compatibles (por ejemplo, enteros y flotantes). Por ejemplo, operaciones aritméticas básicas como sumar múltiples números:"
      ]
    },
    {
      "cell_type": "code",
      "metadata": {
        "id": "NtxoPCBHhv26",
        "colab_type": "code",
        "colab": {}
      },
      "source": [
        "# Expresión de la operación de adición\n",
        "\n",
        "43 + 60 + 16 + 41"
      ],
      "execution_count": 0,
      "outputs": []
    },
    {
      "cell_type": "code",
      "metadata": {
        "id": "lEVzNpCVh94P",
        "colab_type": "code",
        "colab": {}
      },
      "source": [
        "# Expresión de la operación de sustracción\n",
        "\n",
        "50 - 60"
      ],
      "execution_count": 0,
      "outputs": []
    },
    {
      "cell_type": "code",
      "metadata": {
        "id": "2RMyV9_wiB-d",
        "colab_type": "code",
        "colab": {}
      },
      "source": [
        "# Expresión de la operación de multiplicación\n",
        "\n",
        "5 * 5"
      ],
      "execution_count": 0,
      "outputs": []
    },
    {
      "cell_type": "code",
      "metadata": {
        "id": "8rxfiZy4iLRE",
        "colab_type": "code",
        "colab": {}
      },
      "source": [
        "# Expresión de la operación de división\n",
        "\n",
        "25 / 6"
      ],
      "execution_count": 0,
      "outputs": []
    },
    {
      "cell_type": "code",
      "metadata": {
        "id": "YfTS5kSNiV_T",
        "colab_type": "code",
        "colab": {}
      },
      "source": [
        "# Expresión de la operación de división entera\n",
        "\n",
        "25 // 6"
      ],
      "execution_count": 0,
      "outputs": []
    },
    {
      "cell_type": "markdown",
      "metadata": {
        "id": "WrhUvBfHG_4o",
        "colab_type": "text"
      },
      "source": [
        "#### Variables"
      ]
    },
    {
      "cell_type": "markdown",
      "metadata": {
        "id": "dGp3W89LSs2P",
        "colab_type": "text"
      },
      "source": [
        "De forma similar a otros lenguajes de programación, en Python podemos almacenar valores en ```variables``` para poder usarlas luego. Por ejemplo:"
      ]
    },
    {
      "cell_type": "code",
      "metadata": {
        "id": "JzBb8tw6S6YX",
        "colab_type": "code",
        "colab": {}
      },
      "source": [
        "x = 24 + 16"
      ],
      "execution_count": 0,
      "outputs": []
    },
    {
      "cell_type": "markdown",
      "metadata": {
        "id": "X1EOgv-VS8-N",
        "colab_type": "text"
      },
      "source": [
        "Para ver el valor de ```x``` en la notebook simplemente pones esta variable en la ultima linea de la celda:"
      ]
    },
    {
      "cell_type": "code",
      "metadata": {
        "id": "CbxVbBNlTJuc",
        "colab_type": "code",
        "colab": {}
      },
      "source": [
        "# Mostrar el valor de la variable\n",
        "\n",
        "x"
      ],
      "execution_count": 0,
      "outputs": []
    },
    {
      "cell_type": "markdown",
      "metadata": {
        "id": "YOk917gyTOvB",
        "colab_type": "text"
      },
      "source": [
        "Tambien se puede realizar alguna operación con una variable y guardar el resultado en una nueva variable:"
      ]
    },
    {
      "cell_type": "code",
      "metadata": {
        "id": "57KtYfhyThJQ",
        "colab_type": "code",
        "colab": {}
      },
      "source": [
        "# Usar una nueva variable para almacenar el resultado de la operación entre una variable y un valor\n",
        "\n",
        "y = x + 50"
      ],
      "execution_count": 0,
      "outputs": []
    },
    {
      "cell_type": "markdown",
      "metadata": {
        "id": "457-mcRiTrWX",
        "colab_type": "text"
      },
      "source": [
        "Si guardamos un valor en una variable existente, el nuevo valor sobrescribe el valor inicial de la variable"
      ]
    },
    {
      "cell_type": "code",
      "metadata": {
        "id": "fZfGKY8tT41U",
        "colab_type": "code",
        "colab": {}
      },
      "source": [
        "# Sobrescribir una variable con un nuevo valor\n",
        "\n",
        "x = x / 10"
      ],
      "execution_count": 0,
      "outputs": []
    },
    {
      "cell_type": "markdown",
      "metadata": {
        "id": "dbxXfmaHUHlY",
        "colab_type": "text"
      },
      "source": [
        "Es una buena practica usar nombres que representen el significado de la varible, de tal manera que el codigo pueda ser legible:"
      ]
    },
    {
      "cell_type": "code",
      "metadata": {
        "id": "OSxldjxEUjI6",
        "colab_type": "code",
        "colab": {}
      },
      "source": [
        "# Nombres representativos\n",
        "\n",
        "total_min = 43 + 42 + 57\n",
        "total_min"
      ],
      "execution_count": 0,
      "outputs": []
    },
    {
      "cell_type": "code",
      "metadata": {
        "id": "kZhd6BW_Up0Z",
        "colab_type": "code",
        "colab": {}
      },
      "source": [
        "# Nombres representativos\n",
        "\n",
        "total_horas = total_min / 60\n",
        "total_horas"
      ],
      "execution_count": 0,
      "outputs": []
    },
    {
      "cell_type": "markdown",
      "metadata": {
        "id": "3Ivjqd7cHBg2",
        "colab_type": "text"
      },
      "source": [
        "#### *Ejercicio: Expresiones y variables en Python*"
      ]
    },
    {
      "cell_type": "markdown",
      "metadata": {
        "id": "lCgZRokifRC_",
        "colab_type": "text"
      },
      "source": [
        "Calcular cuantas horas hay en 170 minutos"
      ]
    },
    {
      "cell_type": "code",
      "metadata": {
        "id": "vrLWGWMeEf1T",
        "colab_type": "code",
        "colab": {}
      },
      "source": [
        "# Escribir la solucion en la siguiente linea \n"
      ],
      "execution_count": 0,
      "outputs": []
    },
    {
      "cell_type": "markdown",
      "metadata": {
        "id": "l-Z6gZRcfabF",
        "colab_type": "text"
      },
      "source": [
        "Doble click (o Enter) **aqui** para ver la solucion.\n",
        "\n",
        "<!-- La respuesta es:\n",
        "\n",
        "170/60\n",
        "0\n",
        "170//60\n",
        "\n",
        "-->"
      ]
    },
    {
      "cell_type": "markdown",
      "metadata": {
        "id": "hIK67HcPgQTG",
        "colab_type": "text"
      },
      "source": [
        "¿Cual es el valor de ```x``` donde ```x = 3 + 2 * 2```?"
      ]
    },
    {
      "cell_type": "code",
      "metadata": {
        "id": "zAvSdFOMgmHi",
        "colab_type": "code",
        "colab": {}
      },
      "source": [
        "# Escribir la solucion en la siguiente linea \n"
      ],
      "execution_count": 0,
      "outputs": []
    },
    {
      "cell_type": "markdown",
      "metadata": {
        "id": "oWRIdRSqgqVg",
        "colab_type": "text"
      },
      "source": [
        "Doble click (o Enter) **aqui** para ver la solucion.\n",
        "\n",
        "<!-- La respuesta es:\n",
        "\n",
        "7\n",
        "\n",
        "-->"
      ]
    },
    {
      "cell_type": "markdown",
      "metadata": {
        "id": "DA_SJwhVg4Ob",
        "colab_type": "text"
      },
      "source": [
        "¿Cual es el valor de ```y``` donde ```y = (3 + 2) * 2```?"
      ]
    },
    {
      "cell_type": "code",
      "metadata": {
        "id": "55iO06HthArJ",
        "colab_type": "code",
        "colab": {}
      },
      "source": [
        "# Escribir la solucion en la siguiente linea\n"
      ],
      "execution_count": 0,
      "outputs": []
    },
    {
      "cell_type": "markdown",
      "metadata": {
        "id": "G1MsENbDhFKh",
        "colab_type": "text"
      },
      "source": [
        "Doble click (o Enter) **aqui** para ver la solucion.\n",
        "\n",
        "<!-- La respuesta es:\n",
        "\n",
        "10\n",
        "\n",
        "-->"
      ]
    },
    {
      "cell_type": "markdown",
      "metadata": {
        "id": "3pcfSBHbhGwV",
        "colab_type": "text"
      },
      "source": [
        "¿Cual es el valor de ```z``` donde ```z = x + y```?"
      ]
    },
    {
      "cell_type": "code",
      "metadata": {
        "id": "lqg_zQn7hPEN",
        "colab_type": "code",
        "colab": {}
      },
      "source": [
        "# Escribir la solucion en la siguiente linea\n"
      ],
      "execution_count": 0,
      "outputs": []
    },
    {
      "cell_type": "markdown",
      "metadata": {
        "id": "bxCuWs_ihP8z",
        "colab_type": "text"
      },
      "source": [
        "Doble click (o Enter) **aqui** para ver la solucion.\n",
        "\n",
        "<!-- La respuesta es:\n",
        "\n",
        "17\n",
        "\n",
        "-->"
      ]
    },
    {
      "cell_type": "markdown",
      "metadata": {
        "id": "F-srTeMIAc5_",
        "colab_type": "text"
      },
      "source": [
        "---\n",
        "### **Operaciones con strings**\n"
      ]
    },
    {
      "cell_type": "markdown",
      "metadata": {
        "id": "Vh9Q3258AvWc",
        "colab_type": "text"
      },
      "source": [
        "Son secuencia de caracteres, para declararlas se utiliza tanto comillas simples (`‘Esto es una string’`) como como dobles (`“Esto tambien es un string”`)"
      ]
    },
    {
      "cell_type": "code",
      "metadata": {
        "id": "RHsKOO4sAnRX",
        "colab_type": "code",
        "outputId": "52d07bde-9f59-4514-93f2-b113102ca528",
        "colab": {
          "base_uri": "https://localhost:8080/",
          "height": 34
        }
      },
      "source": [
        "\"Hola Mundo\""
      ],
      "execution_count": 0,
      "outputs": [
        {
          "output_type": "execute_result",
          "data": {
            "text/plain": [
              "'Hola Mundo'"
            ]
          },
          "metadata": {
            "tags": []
          },
          "execution_count": 1
        }
      ]
    },
    {
      "cell_type": "code",
      "metadata": {
        "id": "0KDGPzxoBREY",
        "colab_type": "code",
        "outputId": "7096057c-fa44-4319-ecf2-0970b252606a",
        "colab": {
          "base_uri": "https://localhost:8080/",
          "height": 34
        }
      },
      "source": [
        "'Hola Mundo'"
      ],
      "execution_count": 0,
      "outputs": [
        {
          "output_type": "execute_result",
          "data": {
            "text/plain": [
              "'Hola Mundo'"
            ]
          },
          "metadata": {
            "tags": []
          },
          "execution_count": 2
        }
      ]
    },
    {
      "cell_type": "code",
      "metadata": {
        "id": "0XX7uCdOBVAz",
        "colab_type": "code",
        "outputId": "06b3c7ac-5486-4ab6-f3ee-972cfb6cdcfa",
        "colab": {
          "base_uri": "https://localhost:8080/",
          "height": 34
        }
      },
      "source": [
        "\"1 2 3 4 5 6 7\""
      ],
      "execution_count": 0,
      "outputs": [
        {
          "output_type": "execute_result",
          "data": {
            "text/plain": [
              "'1 2 3 4 5 6 7'"
            ]
          },
          "metadata": {
            "tags": []
          },
          "execution_count": 3
        }
      ]
    },
    {
      "cell_type": "code",
      "metadata": {
        "id": "sN_WnEbcBgPM",
        "colab_type": "code",
        "outputId": "a068fd9f-f6ec-49da-c59d-2f3b4a441424",
        "colab": {
          "base_uri": "https://localhost:8080/",
          "height": 34
        }
      },
      "source": [
        "'@#2_#]&*^%$'"
      ],
      "execution_count": 0,
      "outputs": [
        {
          "output_type": "execute_result",
          "data": {
            "text/plain": [
              "'@#2_#]&*^%$'"
            ]
          },
          "metadata": {
            "tags": []
          },
          "execution_count": 4
        }
      ]
    },
    {
      "cell_type": "code",
      "metadata": {
        "id": "SWZ8YlLmBmH_",
        "colab_type": "code",
        "colab": {}
      },
      "source": [
        "# Podemos mostrar un string con la funcion print()\n",
        "print(\"Se imprime un mensaje\")"
      ],
      "execution_count": 0,
      "outputs": []
    },
    {
      "cell_type": "code",
      "metadata": {
        "id": "kSe0QdLYBoR9",
        "colab_type": "code",
        "outputId": "669b29ca-bd42-438b-e466-b45b04776b2f",
        "colab": {
          "base_uri": "https://localhost:8080/",
          "height": 34
        }
      },
      "source": [
        "# Podemos asignar un string a una variable\n",
        "mensaje = \"Un Mensaje\"\n",
        "mensaje"
      ],
      "execution_count": 0,
      "outputs": [
        {
          "output_type": "execute_result",
          "data": {
            "text/plain": [
              "'Un Mensaje'"
            ]
          },
          "metadata": {
            "tags": []
          },
          "execution_count": 8
        }
      ]
    },
    {
      "cell_type": "markdown",
      "metadata": {
        "id": "u_BCiTgeB9cl",
        "colab_type": "text"
      },
      "source": [
        "#### Indexacion"
      ]
    },
    {
      "cell_type": "markdown",
      "metadata": {
        "id": "CyxK72giCV9P",
        "colab_type": "text"
      },
      "source": [
        "Cada caracter en un string esta ordenado comenzando con el indice 0. Por ejemplo, en la variable `mensaje` cada caracter tiene un indice asociado comose muestra a continuación:\n",
        "\n",
        "\n",
        "*   `mensaje[0] = U`\n",
        "*   `mensaje[1] = n`\n",
        "*   `mensaje[6] = s`\n",
        "\n"
      ]
    },
    {
      "cell_type": "code",
      "metadata": {
        "id": "hsTHg3oSB5iy",
        "colab_type": "code",
        "outputId": "e6df4c61-07ff-4f4c-9f1c-9812875693ab",
        "colab": {
          "base_uri": "https://localhost:8080/",
          "height": 34
        }
      },
      "source": [
        "mensaje[0]"
      ],
      "execution_count": 0,
      "outputs": [
        {
          "output_type": "execute_result",
          "data": {
            "text/plain": [
              "'U'"
            ]
          },
          "metadata": {
            "tags": []
          },
          "execution_count": 9
        }
      ]
    },
    {
      "cell_type": "code",
      "metadata": {
        "id": "ZlyWSe5aCOvu",
        "colab_type": "code",
        "outputId": "d17a5f80-b994-4a9d-9e4f-a37efe396322",
        "colab": {
          "base_uri": "https://localhost:8080/",
          "height": 34
        }
      },
      "source": [
        "mensaje[6]"
      ],
      "execution_count": 0,
      "outputs": [
        {
          "output_type": "execute_result",
          "data": {
            "text/plain": [
              "'s'"
            ]
          },
          "metadata": {
            "tags": []
          },
          "execution_count": 10
        }
      ]
    },
    {
      "cell_type": "code",
      "metadata": {
        "id": "oCr0r5WSEDTH",
        "colab_type": "code",
        "outputId": "01c93e2a-34b0-4fe4-e52c-3cc91b5b150f",
        "colab": {
          "base_uri": "https://localhost:8080/",
          "height": 34
        }
      },
      "source": [
        "mensaje[-1]"
      ],
      "execution_count": 0,
      "outputs": [
        {
          "output_type": "execute_result",
          "data": {
            "text/plain": [
              "'e'"
            ]
          },
          "metadata": {
            "tags": []
          },
          "execution_count": 11
        }
      ]
    },
    {
      "cell_type": "code",
      "metadata": {
        "id": "h7jpkAFQEYjA",
        "colab_type": "code",
        "outputId": "d9875f08-febc-4f9d-af74-f91c9ffb62f1",
        "colab": {
          "base_uri": "https://localhost:8080/",
          "height": 34
        }
      },
      "source": [
        "mensaje[-2]"
      ],
      "execution_count": 0,
      "outputs": [
        {
          "output_type": "execute_result",
          "data": {
            "text/plain": [
              "'j'"
            ]
          },
          "metadata": {
            "tags": []
          },
          "execution_count": 12
        }
      ]
    },
    {
      "cell_type": "markdown",
      "metadata": {
        "id": "yvdMI58dEcnw",
        "colab_type": "text"
      },
      "source": [
        "Tambien es posible seleccionar un subconjunto de caracteres dentro del string principal. Para ello se usa el siguiente formato:\n",
        "\n",
        "\n",
        "> `variable[indice_inicial:indice_final]`\n",
        "\n"
      ]
    },
    {
      "cell_type": "code",
      "metadata": {
        "id": "BpjcJjJMEan9",
        "colab_type": "code",
        "outputId": "0ea9984d-a8a1-4bde-9e56-97096cdb9c39",
        "colab": {
          "base_uri": "https://localhost:8080/",
          "height": 34
        }
      },
      "source": [
        "mensaje[0:2]"
      ],
      "execution_count": 0,
      "outputs": [
        {
          "output_type": "execute_result",
          "data": {
            "text/plain": [
              "'Un'"
            ]
          },
          "metadata": {
            "tags": []
          },
          "execution_count": 15
        }
      ]
    },
    {
      "cell_type": "code",
      "metadata": {
        "id": "kUkaRyboE4_-",
        "colab_type": "code",
        "outputId": "43f21813-fbaf-4e2a-f3b5-fa7c0cac466e",
        "colab": {
          "base_uri": "https://localhost:8080/",
          "height": 34
        }
      },
      "source": [
        "mensaje[3:6]"
      ],
      "execution_count": 0,
      "outputs": [
        {
          "output_type": "execute_result",
          "data": {
            "text/plain": [
              "'Men'"
            ]
          },
          "metadata": {
            "tags": []
          },
          "execution_count": 16
        }
      ]
    },
    {
      "cell_type": "markdown",
      "metadata": {
        "id": "Y7H_qL8yFNpc",
        "colab_type": "text"
      },
      "source": [
        "Ademas, es posible seleccionar un subconjunto cada determinada cantidad de espacios. Para ello se usa el siguiente formato:\n",
        "> `variable[indice_inicial:indice_final:cantidad_espacios]`"
      ]
    },
    {
      "cell_type": "code",
      "metadata": {
        "id": "J4GS-Dz9FBom",
        "colab_type": "code",
        "outputId": "4c014299-92e9-4385-c8ba-b2882797a7cb",
        "colab": {
          "base_uri": "https://localhost:8080/",
          "height": 34
        }
      },
      "source": [
        "mensaje[0:6:2]"
      ],
      "execution_count": 0,
      "outputs": [
        {
          "output_type": "execute_result",
          "data": {
            "text/plain": [
              "'U e'"
            ]
          },
          "metadata": {
            "tags": []
          },
          "execution_count": 17
        }
      ]
    },
    {
      "cell_type": "code",
      "metadata": {
        "id": "52On2yePFkUR",
        "colab_type": "code",
        "outputId": "bdb66c4f-fed8-40a8-c814-891c7c92e774",
        "colab": {
          "base_uri": "https://localhost:8080/",
          "height": 34
        }
      },
      "source": [
        "mensaje[0:10:2]"
      ],
      "execution_count": 0,
      "outputs": [
        {
          "output_type": "execute_result",
          "data": {
            "text/plain": [
              "'U esj'"
            ]
          },
          "metadata": {
            "tags": []
          },
          "execution_count": 18
        }
      ]
    },
    {
      "cell_type": "markdown",
      "metadata": {
        "id": "-f1GW_dXFvGs",
        "colab_type": "text"
      },
      "source": [
        "#### Concatenar strings"
      ]
    },
    {
      "cell_type": "markdown",
      "metadata": {
        "id": "tKFGXwdOF3lW",
        "colab_type": "text"
      },
      "source": [
        "Se pueden concatenar strings usado el simbolo `+`"
      ]
    },
    {
      "cell_type": "code",
      "metadata": {
        "id": "5FkmAD2wFy22",
        "colab_type": "code",
        "outputId": "90f6e570-dbe3-4ea8-b1f8-a44b7fdb7248",
        "colab": {
          "base_uri": "https://localhost:8080/",
          "height": 34
        }
      },
      "source": [
        "mensaje = \"Hola\"\n",
        "mensaje"
      ],
      "execution_count": 0,
      "outputs": [
        {
          "output_type": "execute_result",
          "data": {
            "text/plain": [
              "'Hola'"
            ]
          },
          "metadata": {
            "tags": []
          },
          "execution_count": 22
        }
      ]
    },
    {
      "cell_type": "code",
      "metadata": {
        "id": "c85vIXhxGHTE",
        "colab_type": "code",
        "outputId": "a5108078-5aad-4af8-c25c-7910055c57f9",
        "colab": {
          "base_uri": "https://localhost:8080/",
          "height": 34
        }
      },
      "source": [
        "mensaje = mensaje + \" Python\"\n",
        "mensaje"
      ],
      "execution_count": 0,
      "outputs": [
        {
          "output_type": "execute_result",
          "data": {
            "text/plain": [
              "'Hola Python'"
            ]
          },
          "metadata": {
            "tags": []
          },
          "execution_count": 23
        }
      ]
    },
    {
      "cell_type": "markdown",
      "metadata": {
        "id": "FFLS1CA2GSAx",
        "colab_type": "text"
      },
      "source": [
        "Tambien es posible replicar el mismo mensaje usando el simbolo `*`"
      ]
    },
    {
      "cell_type": "code",
      "metadata": {
        "id": "wqUOKBBbGLQC",
        "colab_type": "code",
        "outputId": "2474234e-5b81-4c58-b512-0eb6b77f00ec",
        "colab": {
          "base_uri": "https://localhost:8080/",
          "height": 34
        }
      },
      "source": [
        "\"Esto es un mensaje \"*3"
      ],
      "execution_count": 0,
      "outputs": [
        {
          "output_type": "execute_result",
          "data": {
            "text/plain": [
              "'Esto es un mensaje Esto es un mensaje Esto es un mensaje '"
            ]
          },
          "metadata": {
            "tags": []
          },
          "execution_count": 25
        }
      ]
    },
    {
      "cell_type": "markdown",
      "metadata": {
        "id": "NS7fcBMMGtEv",
        "colab_type": "text"
      },
      "source": [
        "#### Otras operaciones"
      ]
    },
    {
      "cell_type": "markdown",
      "metadata": {
        "id": "qC0BuoTEHu34",
        "colab_type": "text"
      },
      "source": [
        "Método `upper()`\n",
        "\n"
      ]
    },
    {
      "cell_type": "code",
      "metadata": {
        "id": "_Pf8ib2kGay3",
        "colab_type": "code",
        "outputId": "9b89bb33-ffd4-4af9-e1d3-126c4202e3ec",
        "colab": {
          "base_uri": "https://localhost:8080/",
          "height": 50
        }
      },
      "source": [
        "A = \"Universidad Nacional de Ingeniería\"\n",
        "print(\"antes del método upper:\", A)\n",
        "B = A.upper()\n",
        "print(\"despues del método upper:\", B)"
      ],
      "execution_count": 0,
      "outputs": [
        {
          "output_type": "stream",
          "text": [
            "antes del método upper: Universidad Nacional de Ingeniería\n",
            "despues del método upper: UNIVERSIDAD NACIONAL DE INGENIERÍA\n"
          ],
          "name": "stdout"
        }
      ]
    },
    {
      "cell_type": "markdown",
      "metadata": {
        "id": "Qmbi51HQH2pn",
        "colab_type": "text"
      },
      "source": [
        "Método `replace()`"
      ]
    },
    {
      "cell_type": "code",
      "metadata": {
        "id": "Hu35POacGwv9",
        "colab_type": "code",
        "outputId": "dcc2ea6b-2ba0-40e9-d615-400ffdddd839",
        "colab": {
          "base_uri": "https://localhost:8080/",
          "height": 34
        }
      },
      "source": [
        "A = \"Universidad Nacional de Ingeniería\"\n",
        "B = A.replace('Nacional', 'Estatal')\n",
        "B"
      ],
      "execution_count": 0,
      "outputs": [
        {
          "output_type": "execute_result",
          "data": {
            "text/plain": [
              "'Universidad Estatal de Ingeniería'"
            ]
          },
          "metadata": {
            "tags": []
          },
          "execution_count": 32
        }
      ]
    },
    {
      "cell_type": "markdown",
      "metadata": {
        "id": "MxNpP3h-H5Ih",
        "colab_type": "text"
      },
      "source": [
        "Método `find()`"
      ]
    },
    {
      "cell_type": "code",
      "metadata": {
        "id": "7zZc5mouHBAv",
        "colab_type": "code",
        "outputId": "c8067639-ea87-457d-f16a-67f2fbcb05f5",
        "colab": {
          "base_uri": "https://localhost:8080/",
          "height": 34
        }
      },
      "source": [
        "variable = \"Universidad Nacional de Ingeniería\"\n",
        "variable.find('Na')"
      ],
      "execution_count": 0,
      "outputs": [
        {
          "output_type": "execute_result",
          "data": {
            "text/plain": [
              "-1"
            ]
          },
          "metadata": {
            "tags": []
          },
          "execution_count": 35
        }
      ]
    },
    {
      "cell_type": "markdown",
      "metadata": {
        "id": "L1J7ttKUIrtG",
        "colab_type": "text"
      },
      "source": [
        "#### Ejercicio: Operaciones con strings"
      ]
    },
    {
      "cell_type": "markdown",
      "metadata": {
        "id": "Ja0XGjZhIyaU",
        "colab_type": "text"
      },
      "source": [
        "Determinar la extension del archivo en la siguiente ruta: \n",
        "\n",
        "```\n",
        "ruta = \"/home/usuario1/carpeta/imagen.jpg\"\n",
        "```\n",
        "\n"
      ]
    },
    {
      "cell_type": "code",
      "metadata": {
        "id": "PDoaYZbeIwh9",
        "colab_type": "code",
        "colab": {}
      },
      "source": [
        "# Escribir la solucion en las siguientes lineas y presiona Shift+Enter para ejecutar\n",
        "ruta = \"/home/usuario1/carpeta/imagen.jpg\"\n",
        "\n"
      ],
      "execution_count": 0,
      "outputs": []
    }
  ]
}